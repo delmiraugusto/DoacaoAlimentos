{
 "cells": [
  {
   "cell_type": "markdown",
   "id": "4295251f",
   "metadata": {},
   "source": [
    "EndPoint base para o controller de Doação:"
   ]
  },
  {
   "cell_type": "code",
   "execution_count": 3,
   "id": "7ca80712",
   "metadata": {},
   "outputs": [],
   "source": [
    "import requests\n",
    "\n",
    "URL = \"http://192.168.1.3:8080/doacoes/doacoes\""
   ]
  },
  {
   "cell_type": "markdown",
   "id": "af92191f",
   "metadata": {},
   "source": [
    "Para listar uma doação, podemos listar todas, por id da doação, por id do doador e id do solicitante."
   ]
  },
  {
   "cell_type": "markdown",
   "id": "3b4fa148",
   "metadata": {},
   "source": [
    "Listar todos:"
   ]
  },
  {
   "cell_type": "code",
   "execution_count": 11,
   "id": "028491c5",
   "metadata": {},
   "outputs": [
    {
     "name": "stdout",
     "output_type": "stream",
     "text": [
      "[{\"id\": 1, \"doador_nome\": \"test111111e Silva\", \"solicitante_nome\": \"test111111e Silva\", \"descricao\": null, \"status_id\": \"Pendente\", \"dataDoacao\": \"2025-06-01T10:00:00\", \"data_recebimento\": null}, {\"id\": 2, \"doador_nome\": \"test111111e Silva\", \"solicitante_nome\": \"test111111e Silva\", \"descricao\": null, \"status_id\": \"Conclu\\u00edda\", \"dataDoacao\": \"2025-05-20T14:30:00\", \"data_recebimento\": \"2025-05-25T16:00:00\"}, {\"id\": 3, \"doador_nome\": \"delso\", \"solicitante_nome\": \"delso\", \"descricao\": \"Update\", \"status_id\": \"Pendente\", \"dataDoacao\": \"2025-06-09T21:42:50\", \"data_recebimento\": null}, {\"id\": 4, \"doador_nome\": \"Teste\", \"solicitante_nome\": \"Teste\", \"descricao\": \"Teste doador e solicitante\", \"status_id\": \"Em andamento\", \"dataDoacao\": \"2025-06-09T22:56:54\", \"data_recebimento\": null}, {\"id\": 6, \"doador_nome\": \"test111111e Silva\", \"solicitante_nome\": \"test111111e Silva\", \"descricao\": \"Update\", \"status_id\": \"Pendente\", \"dataDoacao\": \"2025-06-10T01:59:47\", \"data_recebimento\": null}, {\"id\": 9, \"doador_nome\": \"Teste2\", \"solicitante_nome\": \"Teste2\", \"descricao\": \"Exemplo de criacao de uma doacao\", \"status_id\": \"Em andamento\", \"dataDoacao\": \"2025-06-13T02:02:00\", \"data_recebimento\": null}]\n",
      "\n"
     ]
    }
   ],
   "source": [
    "response = requests.get(\n",
    "    url = URL\n",
    ")\n",
    "\n",
    "\n",
    "print(response.text)"
   ]
  },
  {
   "cell_type": "markdown",
   "id": "7949e19e",
   "metadata": {},
   "source": [
    "Listar pelo id da doação:"
   ]
  },
  {
   "cell_type": "code",
   "execution_count": 12,
   "id": "301fad96",
   "metadata": {},
   "outputs": [
    {
     "name": "stdout",
     "output_type": "stream",
     "text": [
      "{\"id\": 2, \"doador_nome\": \"test111111e Silva\", \"solicitante_nome\": \"test111111e Silva\", \"descricao\": null, \"status_id\": \"Conclu\\u00edda\", \"dataDoacao\": \"2025-05-20T14:30:00\", \"data_recebimento\": \"2025-05-25T16:00:00\"}\n",
      "\n"
     ]
    }
   ],
   "source": [
    "response = requests.get(\n",
    "    url = URL + \"/2\"\n",
    ")\n",
    "\n",
    "\n",
    "print(response.text)"
   ]
  },
  {
   "cell_type": "markdown",
   "id": "2f24d488",
   "metadata": {},
   "source": [
    "Listar pelo id do doador:"
   ]
  },
  {
   "cell_type": "code",
   "execution_count": 13,
   "id": "3a3ad114",
   "metadata": {},
   "outputs": [
    {
     "name": "stdout",
     "output_type": "stream",
     "text": [
      "[{\"id\": 1, \"descricao\": null, \"status_id\": \"Pendente\", \"dataDoacao\": \"2025-06-01T10:00:00\", \"solicitante_nome\": \"Maria Souza\", \"data_recebimento\": null}, {\"id\": 2, \"descricao\": null, \"status_id\": \"Conclu\\u00edda\", \"dataDoacao\": \"2025-05-20T14:30:00\", \"solicitante_nome\": \"Maria Souza\", \"data_recebimento\": \"2025-05-25T16:00:00\"}, {\"id\": 6, \"descricao\": \"Update\", \"status_id\": \"Pendente\", \"dataDoacao\": \"2025-06-10T01:59:47\", \"solicitante_nome\": \"Maria Souza\", \"data_recebimento\": null}]\n",
      "\n"
     ]
    }
   ],
   "source": [
    "response = requests.get(\n",
    "    url = URL + \"/doador/1\"\n",
    ")\n",
    "\n",
    "\n",
    "print(response.text)"
   ]
  },
  {
   "cell_type": "markdown",
   "id": "f399d3a1",
   "metadata": {},
   "source": [
    "Listar pelo id do solicitante:"
   ]
  },
  {
   "cell_type": "code",
   "execution_count": 14,
   "id": "01f1c358",
   "metadata": {},
   "outputs": [
    {
     "name": "stdout",
     "output_type": "stream",
     "text": [
      "[{\"id\": 1, \"descricao\": null, \"status_id\": \"Pendente\", \"dataDoacao\": \"2025-06-01T10:00:00\", \"doador_nome\": \"test111111e Silva\", \"data_recebimento\": null}, {\"id\": 2, \"descricao\": null, \"status_id\": \"Conclu\\u00edda\", \"dataDoacao\": \"2025-05-20T14:30:00\", \"doador_nome\": \"test111111e Silva\", \"data_recebimento\": \"2025-05-25T16:00:00\"}, {\"id\": 3, \"descricao\": \"Update\", \"status_id\": \"Pendente\", \"dataDoacao\": \"2025-06-09T21:42:50\", \"doador_nome\": \"delso\", \"data_recebimento\": null}, {\"id\": 6, \"descricao\": \"Update\", \"status_id\": \"Pendente\", \"dataDoacao\": \"2025-06-10T01:59:47\", \"doador_nome\": \"test111111e Silva\", \"data_recebimento\": null}, {\"id\": 9, \"descricao\": \"Exemplo de criacao de uma doacao\", \"status_id\": \"Em andamento\", \"dataDoacao\": \"2025-06-13T02:02:00\", \"doador_nome\": \"Teste2\", \"data_recebimento\": null}]\n",
      "\n"
     ]
    }
   ],
   "source": [
    "response = requests.get(\n",
    "    url = URL + \"/solicitante/2\"\n",
    ")\n",
    "\n",
    "\n",
    "print(response.text)"
   ]
  },
  {
   "cell_type": "markdown",
   "id": "376c2a63",
   "metadata": {},
   "source": [
    "Para salvar uma doação no banco de dados, a doação deve conter: doador_id, solicitante_id (opcional), descricao(opcional),\n",
    "dataDoacao, status_id, data_recebimento(opcional). O id da doacao e a dataDoacao são gerados automaticamente."
   ]
  },
  {
   "cell_type": "code",
   "execution_count": null,
   "id": "b2810563",
   "metadata": {},
   "outputs": [
    {
     "name": "stdout",
     "output_type": "stream",
     "text": [
      "{\"id\": 9, \"msg\": \"Doacao adicionado com sucesso\"}\n",
      "\n"
     ]
    }
   ],
   "source": [
    "doacao = {\n",
    "    \"doador_id\": 11,\n",
    "    \"solicitante_id\": 2,\n",
    "    \"status_id\": 2,\n",
    "    \"descricao\": \"Exemplo de criacao de uma doacao\"\n",
    "}\n",
    "\n",
    "response = requests.post(\n",
    "    url = URL,\n",
    "    json = doacao\n",
    ")\n",
    "\n",
    "print(response.text)"
   ]
  },
  {
   "cell_type": "markdown",
   "id": "ebdef1f1",
   "metadata": {},
   "source": [
    "Caso o doador e/ou o solicitante não sejam realmente doador e/ou solicitante a API gera erro:"
   ]
  },
  {
   "cell_type": "code",
   "execution_count": null,
   "id": "c8045439",
   "metadata": {},
   "outputs": [
    {
     "name": "stdout",
     "output_type": "stream",
     "text": [
      "{\"error\": \"N\\u00e3o \\u00e9 solicitante\"}\n",
      "\n"
     ]
    }
   ],
   "source": [
    "doacao = {\n",
    "    \"doador_id\": 11,\n",
    "    \"solicitante_id\": 4,\n",
    "    \"status_id\": 2,\n",
    "    \"descricao\": \"Exemplo solicitante nao sendo solicitante\"\n",
    "}\n",
    "\n",
    "response = requests.post(\n",
    "    url = URL,\n",
    "    json = doacao\n",
    ")\n",
    "\n",
    "print(response.text)"
   ]
  },
  {
   "cell_type": "markdown",
   "id": "8e02362c",
   "metadata": {},
   "source": [
    "Para atualizar uma doação, precisamos passar o id dessa doacao na url e pronto, pode atualizar qualquer campo.\n",
    "Não é necessario passar todos os campos novamente, caso não passe ele mantem os que já tem."
   ]
  },
  {
   "cell_type": "code",
   "execution_count": 6,
   "id": "3af5ae75",
   "metadata": {},
   "outputs": [
    {
     "name": "stdout",
     "output_type": "stream",
     "text": [
      "{\"msg\": \"Doacao atualizado com sucesso\"}\n",
      "\n"
     ]
    }
   ],
   "source": [
    "update = {\n",
    "    \"doador_id\": 1,\n",
    "    \"status_id\": 1,\n",
    "    \"descricao\": \"Update\"\n",
    "}\n",
    "\n",
    "response = requests.put(\n",
    "    url=URL + \"/6\",\n",
    "    json = update\n",
    ")\n",
    "\n",
    "print(response.text)"
   ]
  },
  {
   "cell_type": "markdown",
   "id": "4e7116e7",
   "metadata": {},
   "source": [
    "Para excluir basta passar o id da doacao na url, estará feito. Caso não exista essa doacao a api mostra uma mensagem de erro."
   ]
  },
  {
   "cell_type": "code",
   "execution_count": 7,
   "id": "3d6843cc",
   "metadata": {},
   "outputs": [
    {
     "name": "stdout",
     "output_type": "stream",
     "text": [
      "{\"msg\": \"Doacao deletado com sucesso\"}\n",
      "\n"
     ]
    }
   ],
   "source": [
    "response = requests.delete(\n",
    "    url = URL + \"/8\"\n",
    ")\n",
    "\n",
    "print(response.text)"
   ]
  },
  {
   "cell_type": "code",
   "execution_count": 8,
   "id": "8fa83baa",
   "metadata": {},
   "outputs": [
    {
     "name": "stdout",
     "output_type": "stream",
     "text": [
      "{\"error\": \"Doacao n\\u00e3o encontrado.\"}\n",
      "\n"
     ]
    }
   ],
   "source": [
    "response = requests.delete(\n",
    "    url = URL + \"/7\"\n",
    ")\n",
    "\n",
    "print(response.text)"
   ]
  }
 ],
 "metadata": {
  "kernelspec": {
   "display_name": "venv",
   "language": "python",
   "name": "python3"
  },
  "language_info": {
   "codemirror_mode": {
    "name": "ipython",
    "version": 3
   },
   "file_extension": ".py",
   "mimetype": "text/x-python",
   "name": "python",
   "nbconvert_exporter": "python",
   "pygments_lexer": "ipython3",
   "version": "3.11.9"
  }
 },
 "nbformat": 4,
 "nbformat_minor": 5
}

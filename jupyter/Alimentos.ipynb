{
 "cells": [
  {
   "cell_type": "markdown",
   "id": "4295251f",
   "metadata": {},
   "source": [
    "EndPoint base para o controller de Doação:"
   ]
  },
  {
   "cell_type": "code",
   "execution_count": 1,
   "id": "7ca80712",
   "metadata": {},
   "outputs": [],
   "source": [
    "import requests\n",
    "\n",
    "URL = \"http://192.168.1.3:8080/doacoes/alimentos\""
   ]
  },
  {
   "cell_type": "markdown",
   "id": "af92191f",
   "metadata": {},
   "source": [
    "Para listar um alimentos, podemos listar todos e listar por id do alimento."
   ]
  },
  {
   "cell_type": "markdown",
   "id": "3b4fa148",
   "metadata": {},
   "source": [
    "Listar todos:"
   ]
  },
  {
   "cell_type": "code",
   "execution_count": 2,
   "id": "028491c5",
   "metadata": {},
   "outputs": [
    {
     "name": "stdout",
     "output_type": "stream",
     "text": [
      "[{\"id\": 1, \"nome\": \"Arroz\", \"marca\": \"Tio Jo\\u00e3o\"}, {\"id\": 2, \"nome\": \"Feij\\u00e3o\", \"marca\": \"Camil\"}, {\"id\": 3, \"nome\": \"Macarr\\u00e3o\", \"marca\": \"Renata\"}, {\"id\": 5, \"nome\": \"Teste\", \"marca\": \"Tio teste\"}]\n",
      "\n"
     ]
    }
   ],
   "source": [
    "response = requests.get(\n",
    "    url = URL\n",
    ")\n",
    "\n",
    "\n",
    "print(response.text)"
   ]
  },
  {
   "cell_type": "markdown",
   "id": "7949e19e",
   "metadata": {},
   "source": [
    "Listar pelo id do alimento:"
   ]
  },
  {
   "cell_type": "code",
   "execution_count": 3,
   "id": "301fad96",
   "metadata": {},
   "outputs": [
    {
     "name": "stdout",
     "output_type": "stream",
     "text": [
      "{\"id\": 1, \"nome\": \"Arroz\", \"marca\": \"Tio Jo\\u00e3o\"}\n",
      "\n"
     ]
    }
   ],
   "source": [
    "response = requests.get(\n",
    "    url = URL + \"/1\"\n",
    ")\n",
    "\n",
    "\n",
    "print(response.text)"
   ]
  },
  {
   "cell_type": "markdown",
   "id": "376c2a63",
   "metadata": {},
   "source": [
    "Para salvar um alimento no banco de dados, o alimento deve conter: nome e marca (opcional). \n",
    "O id do alimento é gerado automaticamente."
   ]
  },
  {
   "cell_type": "code",
   "execution_count": 4,
   "id": "b2810563",
   "metadata": {},
   "outputs": [
    {
     "name": "stdout",
     "output_type": "stream",
     "text": [
      "{\"id\": 6, \"msg\": \"Alimento adicionado com sucesso\"}\n",
      "\n"
     ]
    }
   ],
   "source": [
    "alimento = {\n",
    "    \"nome\": \"Alimento do Jupyter Notebook\",\n",
    "    \"marca\": \"Python\",\n",
    "}\n",
    "\n",
    "response = requests.post(\n",
    "    url = URL,\n",
    "    json = alimento\n",
    ")\n",
    "\n",
    "print(response.text)"
   ]
  },
  {
   "cell_type": "markdown",
   "id": "8e02362c",
   "metadata": {},
   "source": [
    "Para atualizar um alimento, precisamos passar o id desse alimento na url e pronto, pode atualizar qualquer campo.\n",
    "Não é necessario passar todos os campos novamente, caso não passe o campo, ele será mantido o que já possui no banco de dados."
   ]
  },
  {
   "cell_type": "code",
   "execution_count": 5,
   "id": "3af5ae75",
   "metadata": {},
   "outputs": [
    {
     "name": "stdout",
     "output_type": "stream",
     "text": [
      "{\"msg\": \"Alimento atualizado com sucesso\"}\n",
      "\n"
     ]
    }
   ],
   "source": [
    "update = {\n",
    "    \"nome\": \"Update do alimento do Jupyter Notebook\",\n",
    "    \"marca\": \"Python Update\",\n",
    "\n",
    "}\n",
    "\n",
    "response = requests.put(\n",
    "    url=URL + \"/6\",\n",
    "    json = update\n",
    ")\n",
    "\n",
    "print(response.text)"
   ]
  },
  {
   "cell_type": "markdown",
   "id": "4e7116e7",
   "metadata": {},
   "source": [
    "Para excluir basta passar o id do alimento na url, e estará feito. Caso não exista esse alimento, a api mostrará uma mensagem de erro."
   ]
  },
  {
   "cell_type": "code",
   "execution_count": 6,
   "id": "3d6843cc",
   "metadata": {},
   "outputs": [
    {
     "name": "stdout",
     "output_type": "stream",
     "text": [
      "{\"msg\": \"Alimento deletado com sucesso\"}\n",
      "\n"
     ]
    }
   ],
   "source": [
    "response = requests.delete(\n",
    "    url = URL + \"/6\"\n",
    ")\n",
    "\n",
    "print(response.text)"
   ]
  },
  {
   "cell_type": "code",
   "execution_count": 7,
   "id": "8fa83baa",
   "metadata": {},
   "outputs": [
    {
     "name": "stdout",
     "output_type": "stream",
     "text": [
      "{\"error\": \"Alimento n\\u00e3o encontrado.\"}\n",
      "\n"
     ]
    }
   ],
   "source": [
    "response = requests.delete(\n",
    "    url = URL + \"/7\"\n",
    ")\n",
    "\n",
    "print(response.text)"
   ]
  }
 ],
 "metadata": {
  "kernelspec": {
   "display_name": "venv",
   "language": "python",
   "name": "python3"
  },
  "language_info": {
   "codemirror_mode": {
    "name": "ipython",
    "version": 3
   },
   "file_extension": ".py",
   "mimetype": "text/x-python",
   "name": "python",
   "nbconvert_exporter": "python",
   "pygments_lexer": "ipython3",
   "version": "3.11.9"
  }
 },
 "nbformat": 4,
 "nbformat_minor": 5
}

{
 "cells": [
  {
   "cell_type": "markdown",
   "id": "4295251f",
   "metadata": {},
   "source": [
    "EndPoint base para o controller de Doação:\n",
    "\n",
    "A ideia que no campo senha, seja passado a senha e seja salvo no banco de dados a senha com hash.\n",
    "\n",
    "Nos metodos de listar, não e retornado a senha, por questoes de seguranca."
   ]
  },
  {
   "cell_type": "code",
   "execution_count": 2,
   "id": "7ca80712",
   "metadata": {},
   "outputs": [],
   "source": [
    "import requests\n",
    "\n",
    "URL = \"http://192.168.1.3:8080/doacoes/usuarios\""
   ]
  },
  {
   "cell_type": "markdown",
   "id": "af92191f",
   "metadata": {},
   "source": [
    "Para listar usuarios, podemos listar todos ou pelo id do usuario."
   ]
  },
  {
   "cell_type": "markdown",
   "id": "3b4fa148",
   "metadata": {},
   "source": [
    "Listar todos:"
   ]
  },
  {
   "cell_type": "code",
   "execution_count": 3,
   "id": "028491c5",
   "metadata": {},
   "outputs": [
    {
     "name": "stdout",
     "output_type": "stream",
     "text": [
      "[{\"id\": 1, \"nome\": \"test111111e Silva\", \"email\": \"joao@email.com\", \"telefone\": \"11999999999\", \"documento\": \"12345678900\", \"perfil_id\": \"Doador\"}, {\"id\": 2, \"nome\": \"Maria Souza\", \"email\": \"maria@email.com\", \"telefone\": \"21988888888\", \"documento\": \"98765432100\", \"perfil_id\": \"Solicitante\"}, {\"id\": 3, \"nome\": \"Admin User\", \"email\": \"admin@email.com\", \"telefone\": \"11977777777\", \"documento\": \"11111111111\", \"perfil_id\": \"Administrador\"}, {\"id\": 4, \"nome\": \"Teste\", \"email\": \"teste@email.com\", \"telefone\": \"11999999999\", \"documento\": \"12345678900\", \"perfil_id\": \"Doador\"}, {\"id\": 5, \"nome\": \"delso\", \"email\": \"teste1@email.com\", \"telefone\": \"11999999999\", \"documento\": \"12345678900\", \"perfil_id\": \"Doador\"}, {\"id\": 6, \"nome\": \"Teste\", \"email\": \"teste12@email.com\", \"telefone\": \"11999999999\", \"documento\": \"12345678900\", \"perfil_id\": \"Doador\"}, {\"id\": 7, \"nome\": \"Teste\", \"email\": \"teste123@email.com\", \"telefone\": \"11999999999\", \"documento\": \"12345678900\", \"perfil_id\": \"Doador\"}, {\"id\": 8, \"nome\": \"Teste2\", \"email\": \"teste1233@email.com\", \"telefone\": \"11999999999\", \"documento\": \"12345678900\", \"perfil_id\": \"Doador\"}, {\"id\": 9, \"nome\": \"Teste2\", \"email\": \"teste12333@email.com\", \"telefone\": \"11999999999\", \"documento\": \"12345678900\", \"perfil_id\": \"Doador\"}, {\"id\": 11, \"nome\": \"Teste2\", \"email\": \"teste125@email.com\", \"telefone\": \"11999999999\", \"documento\": \"12345678900\", \"perfil_id\": \"Doador\"}, {\"id\": 12, \"nome\": \"Teste3\", \"email\": \"teste225@email.com\", \"telefone\": \"11999999999\", \"documento\": \"12345678900\", \"perfil_id\": \"Doador\"}, {\"id\": 13, \"nome\": \"Teste cep\", \"email\": \"teste226@email.com\", \"telefone\": \"11999999999\", \"documento\": \"12345678900\", \"perfil_id\": \"Doador\"}, {\"id\": 14, \"nome\": \"Teste2\", \"email\": \"teste123333@email.com\", \"telefone\": \"11999999999\", \"documento\": \"12345678900\", \"perfil_id\": \"Doador\"}, {\"id\": 15, \"nome\": \"Teste cep\", \"email\": \"teste12333313@email.com\", \"telefone\": \"11999999999\", \"documento\": \"12345678900\", \"perfil_id\": \"Doador\"}, {\"id\": 16, \"nome\": \"Teste2\", \"email\": \"teste1233331313@email.com\", \"telefone\": \"11999999999\", \"documento\": \"12345678900\", \"perfil_id\": \"Doador\"}, {\"id\": 17, \"nome\": \"Teste2\", \"email\": \"teste12333eaeq31313@email.com\", \"telefone\": \"11999999999\", \"documento\": \"12345678900\", \"perfil_id\": \"Doador\"}]\n",
      "\n"
     ]
    }
   ],
   "source": [
    "response = requests.get(\n",
    "    url = URL\n",
    ")\n",
    "\n",
    "\n",
    "print(response.text)"
   ]
  },
  {
   "cell_type": "markdown",
   "id": "7949e19e",
   "metadata": {},
   "source": [
    "Listar pelo id do usuario:"
   ]
  },
  {
   "cell_type": "code",
   "execution_count": 4,
   "id": "301fad96",
   "metadata": {},
   "outputs": [
    {
     "name": "stdout",
     "output_type": "stream",
     "text": [
      "{\"nome\": \"Maria Souza\", \"email\": \"maria@email.com\", \"telefone\": \"21988888888\", \"documento\": \"98765432100\"}\n",
      "\n"
     ]
    }
   ],
   "source": [
    "response = requests.get(\n",
    "    url = URL + \"/2\"\n",
    ")\n",
    "\n",
    "\n",
    "print(response.text)"
   ]
  },
  {
   "cell_type": "markdown",
   "id": "376c2a63",
   "metadata": {},
   "source": [
    "Para salvar um usuario no banco de dados, o usuario deve conter: nome, email, senha, telefone, documento, perfil_id, cep de endereco,\n",
    "numero (opcional), complemento(opcional).\n",
    "O id do usuario é gerado automaticamente."
   ]
  },
  {
   "cell_type": "code",
   "execution_count": 5,
   "id": "b2810563",
   "metadata": {},
   "outputs": [
    {
     "name": "stdout",
     "output_type": "stream",
     "text": [
      "{\"id\": 19, \"msg\": \"Usu\\u00e1rio criado com sucesso\"}\n",
      "\n"
     ]
    }
   ],
   "source": [
    "usuario = {\n",
    "        \"nome\": \"Teste Jupyter\",\n",
    "        \"email\": \"TesteJupyter@email.com\",\n",
    "        \"senha\": \"123456787\",\n",
    "        \"telefone\": \"11999999999\",\n",
    "        \"documento\": \"12345678900\",\n",
    "        \"perfil_id\": 1,\n",
    "        \"endereco\": {\n",
    "            \"cep\": \"25645010\"\n",
    "        },\n",
    "        \"numero\": 100\n",
    "}\n",
    "\n",
    "response = requests.post(\n",
    "    url = URL,\n",
    "    json = usuario\n",
    ")\n",
    "\n",
    "print(response.text)"
   ]
  },
  {
   "cell_type": "markdown",
   "id": "8e02362c",
   "metadata": {},
   "source": [
    "Para atualizar um usuario, precisamos passar o id desse usuario na url e pronto, pode atualizar qualquer campo.\n",
    "Não é necessario passar todos os campos novamente, caso não passe o campo, ele será mantido o que já possui no banco de dados."
   ]
  },
  {
   "cell_type": "code",
   "execution_count": 11,
   "id": "3af5ae75",
   "metadata": {},
   "outputs": [
    {
     "name": "stdout",
     "output_type": "stream",
     "text": [
      "{\"msg\": \"Usu\\u00e1rio atualizado com sucesso\"}\n",
      "\n"
     ]
    }
   ],
   "source": [
    "update = {\n",
    "    \"nome\": \"Teste Update\",\n",
    "    \"email\": \"testeUpdate@email.com\",\n",
    "    \"perfil_id\": 1,\n",
    "    \"endereco\": \"25620040\"\n",
    "}\n",
    "\n",
    "response = requests.put(\n",
    "    url=URL + \"/6\",\n",
    "    json = update\n",
    ")\n",
    "\n",
    "print(response.text)"
   ]
  },
  {
   "cell_type": "markdown",
   "id": "4e7116e7",
   "metadata": {},
   "source": [
    "Para excluir basta passar o id do usuario na url, e estará feito. Caso não exista esse usuario, a api mostrará uma mensagem de erro."
   ]
  },
  {
   "cell_type": "code",
   "execution_count": 9,
   "id": "3d6843cc",
   "metadata": {},
   "outputs": [
    {
     "name": "stdout",
     "output_type": "stream",
     "text": [
      "{\"msg\": \"Usu\\u00e1rio deletado com sucesso\"}\n",
      "\n"
     ]
    }
   ],
   "source": [
    "response = requests.delete(\n",
    "    url = URL + \"/8\"\n",
    ")\n",
    "\n",
    "print(response.text)"
   ]
  },
  {
   "cell_type": "code",
   "execution_count": 10,
   "id": "8fa83baa",
   "metadata": {},
   "outputs": [
    {
     "name": "stdout",
     "output_type": "stream",
     "text": [
      "{\"error\": \"Usu\\u00e1rio n\\u00e3o encontrado.\"}\n",
      "\n"
     ]
    }
   ],
   "source": [
    "response = requests.delete(\n",
    "    url = URL + \"/32\"\n",
    ")\n",
    "\n",
    "print(response.text)"
   ]
  }
 ],
 "metadata": {
  "kernelspec": {
   "display_name": "venv",
   "language": "python",
   "name": "python3"
  },
  "language_info": {
   "codemirror_mode": {
    "name": "ipython",
    "version": 3
   },
   "file_extension": ".py",
   "mimetype": "text/x-python",
   "name": "python",
   "nbconvert_exporter": "python",
   "pygments_lexer": "ipython3",
   "version": "3.11.9"
  }
 },
 "nbformat": 4,
 "nbformat_minor": 5
}

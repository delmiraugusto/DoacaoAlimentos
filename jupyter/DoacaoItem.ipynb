{
 "cells": [
  {
   "cell_type": "markdown",
   "id": "4295251f",
   "metadata": {},
   "source": [
    "EndPoint base para o controller de DoacaoItem:\n",
    "\n",
    "A ideia é que doacaoItem seja a tabela intermediaria entre doacao e alimento.\n",
    "\n",
    "Tendo como requisito não poder cadastrar uma data de vencimento menor que a data atual e quantidade tem que ser maior que 0."
   ]
  },
  {
   "cell_type": "code",
   "execution_count": 1,
   "id": "7ca80712",
   "metadata": {},
   "outputs": [],
   "source": [
    "import requests\n",
    "\n",
    "URL = \"http://192.168.1.3:8080/doacoes/doacoesItens\""
   ]
  },
  {
   "cell_type": "markdown",
   "id": "af92191f",
   "metadata": {},
   "source": [
    "Para listar doacaoItem, podemos listar todas ou pelo id da doacaoItem."
   ]
  },
  {
   "cell_type": "markdown",
   "id": "3b4fa148",
   "metadata": {},
   "source": [
    "Listar todos:"
   ]
  },
  {
   "cell_type": "code",
   "execution_count": 5,
   "id": "028491c5",
   "metadata": {},
   "outputs": [
    {
     "name": "stdout",
     "output_type": "stream",
     "text": [
      "[{\"id\": 1, \"doacao_id\": 2, \"alimento_id\": 5, \"quantidade\": 8, \"data_vencimento\": \"2026-05-28\"}, {\"id\": 2, \"doacao_id\": 1, \"alimento_id\": 2, \"quantidade\": 3, \"data_vencimento\": \"2025-11-15\"}, {\"id\": 3, \"doacao_id\": 2, \"alimento_id\": 3, \"quantidade\": 2, \"data_vencimento\": \"2025-10-10\"}]\n",
      "\n"
     ]
    }
   ],
   "source": [
    "response = requests.get(\n",
    "    url = URL\n",
    ")\n",
    "\n",
    "\n",
    "print(response.text)"
   ]
  },
  {
   "cell_type": "markdown",
   "id": "7949e19e",
   "metadata": {},
   "source": [
    "Listar pelo id da doacaoItem:"
   ]
  },
  {
   "cell_type": "code",
   "execution_count": 6,
   "id": "301fad96",
   "metadata": {},
   "outputs": [
    {
     "name": "stdout",
     "output_type": "stream",
     "text": [
      "{\"doacao_id\": 1, \"alimento_id\": 2, \"quantidade\": 3, \"data_vencimento\": \"2025-11-15\"}\n",
      "\n"
     ]
    }
   ],
   "source": [
    "response = requests.get(\n",
    "    url = URL + \"/2\"\n",
    ")\n",
    "\n",
    "\n",
    "print(response.text)"
   ]
  },
  {
   "cell_type": "markdown",
   "id": "376c2a63",
   "metadata": {},
   "source": [
    "Para salvar uma doacaoItem no banco de dados, ela deve conter: doacao_id, alimento_id, quantidade e data_vencimento.\n",
    "O id da doacaoItem é gerado automaticamente."
   ]
  },
  {
   "cell_type": "code",
   "execution_count": 9,
   "id": "b2810563",
   "metadata": {},
   "outputs": [
    {
     "name": "stdout",
     "output_type": "stream",
     "text": [
      "{\"id\": 5, \"msg\": \"DoacaoItem adicionado com sucesso\"}\n",
      "\n"
     ]
    }
   ],
   "source": [
    "doacaoItem = {\n",
    "    \"doacao_id\": 4,\n",
    "    \"alimento_id\": 2,\n",
    "    \"quantidade\": 10,\n",
    "    \"data_vencimento\": \"2026-09-28\"\n",
    "}\n",
    "\n",
    "response = requests.post(\n",
    "    url = URL,\n",
    "    json = doacaoItem\n",
    ")\n",
    "\n",
    "print(response.text)"
   ]
  },
  {
   "cell_type": "markdown",
   "id": "ebdef1f1",
   "metadata": {},
   "source": [
    "Caso não exista o id do doador ou do alimento no banco de dados a API gera erro:"
   ]
  },
  {
   "cell_type": "code",
   "execution_count": 10,
   "id": "c8045439",
   "metadata": {},
   "outputs": [
    {
     "name": "stdout",
     "output_type": "stream",
     "text": [
      "{\"error\": \"Doacao com ID 5 n\\u00e3o existe.\"}\n",
      "\n"
     ]
    }
   ],
   "source": [
    "doacaoItem = {\n",
    "    \"doacao_id\": 5,\n",
    "    \"alimento_id\": 2,\n",
    "    \"quantidade\": 10,\n",
    "    \"data_vencimento\": \"2026-09-28\"\n",
    "}\n",
    "\n",
    "response = requests.post(\n",
    "    url = URL,\n",
    "    json = doacaoItem\n",
    ")\n",
    "\n",
    "print(response.text)"
   ]
  },
  {
   "cell_type": "markdown",
   "id": "89d8cad4",
   "metadata": {},
   "source": [
    "Caso coloque da data de vencimento no passado a API gera erro:"
   ]
  },
  {
   "cell_type": "code",
   "execution_count": 12,
   "id": "e92f380b",
   "metadata": {},
   "outputs": [
    {
     "name": "stdout",
     "output_type": "stream",
     "text": [
      "{\"error\": \"A data de vencimento deve ser maior que a data atual\"}\n",
      "\n"
     ]
    }
   ],
   "source": [
    "doacaoItem = {\n",
    "    \"doacao_id\": 4,\n",
    "    \"alimento_id\": 2,\n",
    "    \"quantidade\": 10,\n",
    "    \"data_vencimento\": \"2024-02-19\"\n",
    "}\n",
    "\n",
    "response = requests.post(\n",
    "    url = URL,\n",
    "    json = doacaoItem\n",
    ")\n",
    "\n",
    "print(response.text)"
   ]
  },
  {
   "cell_type": "markdown",
   "id": "8e02362c",
   "metadata": {},
   "source": [
    "Para atualizar uma doacaoItem, precisamos passar o id dessa doacaoItem na url e pronto, pode atualizar qualquer campo.\n",
    "Não é necessario passar todos os campos novamente, caso não passe o campo, ele será mantido o que já possui no banco de dados."
   ]
  },
  {
   "cell_type": "code",
   "execution_count": 13,
   "id": "3af5ae75",
   "metadata": {},
   "outputs": [
    {
     "name": "stdout",
     "output_type": "stream",
     "text": [
      "{\"msg\": \"DoacaoItem atualizado com sucesso\"}\n",
      "\n"
     ]
    }
   ],
   "source": [
    "update = {\n",
    "    \"doacao_id\": 2,\n",
    "    \"alimento_id\": 3,\n",
    "    \"quantidade\": 12,\n",
    "}\n",
    "\n",
    "response = requests.put(\n",
    "    url=URL + \"/5\",\n",
    "    json = update\n",
    ")\n",
    "\n",
    "print(response.text)"
   ]
  },
  {
   "cell_type": "markdown",
   "id": "4e7116e7",
   "metadata": {},
   "source": [
    "Para excluir basta passar o id da doacaoItem na url, e estará feito. Caso não exista essa doacaoItem, a api mostrará uma mensagem de erro."
   ]
  },
  {
   "cell_type": "code",
   "execution_count": 15,
   "id": "3d6843cc",
   "metadata": {},
   "outputs": [
    {
     "name": "stdout",
     "output_type": "stream",
     "text": [
      "{\"msg\": \"DoacaoItem deletado com sucesso\"}\n",
      "\n"
     ]
    }
   ],
   "source": [
    "response = requests.delete(\n",
    "    url = URL + \"/3\"\n",
    ")\n",
    "\n",
    "print(response.text)"
   ]
  },
  {
   "cell_type": "code",
   "execution_count": 16,
   "id": "8fa83baa",
   "metadata": {},
   "outputs": [
    {
     "name": "stdout",
     "output_type": "stream",
     "text": [
      "{\"msg\": \"DoacaoItem deletado com sucesso\"}\n",
      "\n"
     ]
    }
   ],
   "source": [
    "response = requests.delete(\n",
    "    url = URL + \"/5\"\n",
    ")\n",
    "\n",
    "print(response.text)"
   ]
  }
 ],
 "metadata": {
  "kernelspec": {
   "display_name": "venv",
   "language": "python",
   "name": "python3"
  },
  "language_info": {
   "codemirror_mode": {
    "name": "ipython",
    "version": 3
   },
   "file_extension": ".py",
   "mimetype": "text/x-python",
   "name": "python",
   "nbconvert_exporter": "python",
   "pygments_lexer": "ipython3",
   "version": "3.11.9"
  }
 },
 "nbformat": 4,
 "nbformat_minor": 5
}

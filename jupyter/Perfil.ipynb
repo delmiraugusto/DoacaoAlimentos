{
 "cells": [
  {
   "cell_type": "markdown",
   "id": "4295251f",
   "metadata": {},
   "source": [
    "EndPoint base para o controller de Perfil:\n",
    "\n",
    "A ideia de perfil e ter apenas doador, solicitante e admin. Porém nunca se sabe, então temos o crud completo de Perfil"
   ]
  },
  {
   "cell_type": "code",
   "execution_count": 1,
   "id": "7ca80712",
   "metadata": {},
   "outputs": [],
   "source": [
    "import requests\n",
    "\n",
    "URL = \"http://192.168.1.3:8080/doacoes/perfil\""
   ]
  },
  {
   "cell_type": "markdown",
   "id": "af92191f",
   "metadata": {},
   "source": [
    "Para listar perfil, podemos listar todos ou listar pelo id do perfil."
   ]
  },
  {
   "cell_type": "markdown",
   "id": "3b4fa148",
   "metadata": {},
   "source": [
    "Listar todos:"
   ]
  },
  {
   "cell_type": "code",
   "execution_count": 2,
   "id": "028491c5",
   "metadata": {},
   "outputs": [
    {
     "name": "stdout",
     "output_type": "stream",
     "text": [
      "[{\"id\": 1, \"nome\": \"Doador\"}, {\"id\": 2, \"nome\": \"Solicitante\"}, {\"id\": 3, \"nome\": \"Administrador\"}]\n",
      "\n"
     ]
    }
   ],
   "source": [
    "response = requests.get(\n",
    "    url = URL\n",
    ")\n",
    "\n",
    "print(response.text)"
   ]
  },
  {
   "cell_type": "markdown",
   "id": "7949e19e",
   "metadata": {},
   "source": [
    "Listar pelo id do status:"
   ]
  },
  {
   "cell_type": "code",
   "execution_count": 9,
   "id": "301fad96",
   "metadata": {},
   "outputs": [
    {
     "name": "stdout",
     "output_type": "stream",
     "text": [
      "{\"nome\": \"Doador\"}\n",
      "\n"
     ]
    }
   ],
   "source": [
    "response = requests.get(\n",
    "    url = URL + \"/1\"\n",
    ")\n",
    "\n",
    "\n",
    "print(response.text)"
   ]
  },
  {
   "cell_type": "markdown",
   "id": "376c2a63",
   "metadata": {},
   "source": [
    "Para salvar um perfil no banco de dados, o perfil deve conter: nome. \n",
    "O id do perfil é gerado automaticamente."
   ]
  },
  {
   "cell_type": "code",
   "execution_count": 4,
   "id": "b2810563",
   "metadata": {},
   "outputs": [
    {
     "name": "stdout",
     "output_type": "stream",
     "text": [
      "{\"id\": 5, \"msg\": \"Perfil adicionado com sucesso\"}\n",
      "\n"
     ]
    }
   ],
   "source": [
    "perfil = {\n",
    "    \"nome\": \"Perfil do Jupyter\",\n",
    "}\n",
    "\n",
    "response = requests.post(\n",
    "    url = URL,\n",
    "    json = perfil\n",
    ")\n",
    "\n",
    "print(response.text)"
   ]
  },
  {
   "cell_type": "markdown",
   "id": "8e02362c",
   "metadata": {},
   "source": [
    "Para atualizar um perfil, precisamos passar o id desse perfil na url e pronto, pode atualizar o campo nome."
   ]
  },
  {
   "cell_type": "code",
   "execution_count": 6,
   "id": "3af5ae75",
   "metadata": {},
   "outputs": [
    {
     "name": "stdout",
     "output_type": "stream",
     "text": [
      "{\"msg\": \"Perfil atualizado com sucesso\"}\n",
      "\n"
     ]
    }
   ],
   "source": [
    "update = {\n",
    "    \"nome\": \"Perfil update do Jupyter\",\n",
    "}\n",
    "\n",
    "response = requests.put(\n",
    "    url=URL + \"/5\",\n",
    "    json = update\n",
    ")\n",
    "\n",
    "print(response.text)"
   ]
  },
  {
   "cell_type": "markdown",
   "id": "4e7116e7",
   "metadata": {},
   "source": [
    "Para excluir basta passar o id do perfil na url, e estará feito. Caso não exista esse perfil, a api mostrará uma mensagem de erro."
   ]
  },
  {
   "cell_type": "code",
   "execution_count": 7,
   "id": "3d6843cc",
   "metadata": {},
   "outputs": [
    {
     "name": "stdout",
     "output_type": "stream",
     "text": [
      "{\"msg\": \"Perfil deletado com sucesso\"}\n",
      "\n"
     ]
    }
   ],
   "source": [
    "response = requests.delete(\n",
    "    url = URL + \"/5\"\n",
    ")\n",
    "\n",
    "print(response.text)"
   ]
  },
  {
   "cell_type": "code",
   "execution_count": 8,
   "id": "8fa83baa",
   "metadata": {},
   "outputs": [
    {
     "name": "stdout",
     "output_type": "stream",
     "text": [
      "{\"error\": \"Perfil n\\u00e3o encontrado.\"}\n",
      "\n"
     ]
    }
   ],
   "source": [
    "response = requests.delete(\n",
    "    url = URL + \"/8\"\n",
    ")\n",
    "\n",
    "print(response.text)"
   ]
  }
 ],
 "metadata": {
  "kernelspec": {
   "display_name": "venv",
   "language": "python",
   "name": "python3"
  },
  "language_info": {
   "codemirror_mode": {
    "name": "ipython",
    "version": 3
   },
   "file_extension": ".py",
   "mimetype": "text/x-python",
   "name": "python",
   "nbconvert_exporter": "python",
   "pygments_lexer": "ipython3",
   "version": "3.11.9"
  }
 },
 "nbformat": 4,
 "nbformat_minor": 5
}

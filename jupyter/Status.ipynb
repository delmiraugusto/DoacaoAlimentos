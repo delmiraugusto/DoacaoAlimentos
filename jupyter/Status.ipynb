{
 "cells": [
  {
   "cell_type": "markdown",
   "id": "4295251f",
   "metadata": {},
   "source": [
    "EndPoint base para o controller de Status:"
   ]
  },
  {
   "cell_type": "code",
   "execution_count": 1,
   "id": "7ca80712",
   "metadata": {},
   "outputs": [],
   "source": [
    "import requests\n",
    "\n",
    "URL = \"http://192.168.1.3:8080/doacoes/status\""
   ]
  },
  {
   "cell_type": "markdown",
   "id": "af92191f",
   "metadata": {},
   "source": [
    "Para listar um status, podemos listar todos e listar pelo id do status."
   ]
  },
  {
   "cell_type": "markdown",
   "id": "3b4fa148",
   "metadata": {},
   "source": [
    "Listar todos:"
   ]
  },
  {
   "cell_type": "code",
   "execution_count": null,
   "id": "028491c5",
   "metadata": {},
   "outputs": [
    {
     "name": "stdout",
     "output_type": "stream",
     "text": [
      "[{\"id\": 1, \"nome\": \"Pendente\"}, {\"id\": 2, \"nome\": \"Em andamento\"}, {\"id\": 3, \"nome\": \"Conclu\\u00edda\"}, {\"id\": 4, \"nome\": \"Cancelada\"}]\n",
      "\n"
     ]
    }
   ],
   "source": [
    "response = requests.get(\n",
    "    url = URL\n",
    ")\n",
    "\n",
    "print(response.text)"
   ]
  },
  {
   "cell_type": "markdown",
   "id": "7949e19e",
   "metadata": {},
   "source": [
    "Listar pelo id do status:"
   ]
  },
  {
   "cell_type": "code",
   "execution_count": 4,
   "id": "301fad96",
   "metadata": {},
   "outputs": [
    {
     "name": "stdout",
     "output_type": "stream",
     "text": [
      "{\"nome\": \"Pendente\"}\n",
      "\n"
     ]
    }
   ],
   "source": [
    "response = requests.get(\n",
    "    url = URL + \"/1\"\n",
    ")\n",
    "\n",
    "\n",
    "print(response.text)"
   ]
  },
  {
   "cell_type": "markdown",
   "id": "376c2a63",
   "metadata": {},
   "source": [
    "Para salvar um status no banco de dados, o status deve conter: nome. \n",
    "O id do status é gerado automaticamente."
   ]
  },
  {
   "cell_type": "code",
   "execution_count": 5,
   "id": "b2810563",
   "metadata": {},
   "outputs": [
    {
     "name": "stdout",
     "output_type": "stream",
     "text": [
      "{\"id\": 7, \"msg\": \"Status adicionado com sucesso\"}\n",
      "\n"
     ]
    }
   ],
   "source": [
    "doacao = {\n",
    "    \"nome\": \"Status do Jupyter\",\n",
    "}\n",
    "\n",
    "response = requests.post(\n",
    "    url = URL,\n",
    "    json = doacao\n",
    ")\n",
    "\n",
    "print(response.text)"
   ]
  },
  {
   "cell_type": "markdown",
   "id": "8e02362c",
   "metadata": {},
   "source": [
    "Para atualizar um status, precisamos passar o id desse status na url e pronto, pode atualizar o campo nome."
   ]
  },
  {
   "cell_type": "code",
   "execution_count": 6,
   "id": "3af5ae75",
   "metadata": {},
   "outputs": [
    {
     "name": "stdout",
     "output_type": "stream",
     "text": [
      "{\"msg\": \"Status atualizado com sucesso\"}\n",
      "\n"
     ]
    }
   ],
   "source": [
    "update = {\n",
    "    \"nome\": \"Status update do Jupyter\",\n",
    "}\n",
    "\n",
    "response = requests.put(\n",
    "    url=URL + \"/7\",\n",
    "    json = update\n",
    ")\n",
    "\n",
    "print(response.text)"
   ]
  },
  {
   "cell_type": "markdown",
   "id": "4e7116e7",
   "metadata": {},
   "source": [
    "Para excluir basta passar o id do status na url, e estará feito. Caso não exista esse status, a api mostrará uma mensagem de erro."
   ]
  },
  {
   "cell_type": "code",
   "execution_count": 7,
   "id": "3d6843cc",
   "metadata": {},
   "outputs": [
    {
     "name": "stdout",
     "output_type": "stream",
     "text": [
      "{\"msg\": \"Status deletado com sucesso\"}\n",
      "\n"
     ]
    }
   ],
   "source": [
    "response = requests.delete(\n",
    "    url = URL + \"/7\"\n",
    ")\n",
    "\n",
    "print(response.text)"
   ]
  },
  {
   "cell_type": "code",
   "execution_count": 8,
   "id": "8fa83baa",
   "metadata": {},
   "outputs": [
    {
     "name": "stdout",
     "output_type": "stream",
     "text": [
      "{\"error\": \"Status n\\u00e3o encontrado.\"}\n",
      "\n"
     ]
    }
   ],
   "source": [
    "response = requests.delete(\n",
    "    url = URL + \"/8\"\n",
    ")\n",
    "\n",
    "print(response.text)"
   ]
  }
 ],
 "metadata": {
  "kernelspec": {
   "display_name": "venv",
   "language": "python",
   "name": "python3"
  },
  "language_info": {
   "codemirror_mode": {
    "name": "ipython",
    "version": 3
   },
   "file_extension": ".py",
   "mimetype": "text/x-python",
   "name": "python",
   "nbconvert_exporter": "python",
   "pygments_lexer": "ipython3",
   "version": "3.11.9"
  }
 },
 "nbformat": 4,
 "nbformat_minor": 5
}

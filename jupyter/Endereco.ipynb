{
 "cells": [
  {
   "cell_type": "markdown",
   "id": "4295251f",
   "metadata": {},
   "source": [
    "EndPoint base para o controller de Endereco:\n",
    "\n",
    "A ideia é que o endereco seja verificado a existência e caso exista, seja cadastrado no banco através da api do viacep.\n",
    "Sendo assim, passamos o cep e salva automaticamente o cep, logradouro, bairro, uf e cidade"
   ]
  },
  {
   "cell_type": "code",
   "execution_count": 4,
   "id": "7ca80712",
   "metadata": {},
   "outputs": [],
   "source": [
    "import requests\n",
    "\n",
    "URL = \"http://192.168.1.3:8080/doacoes/enderecos\""
   ]
  },
  {
   "cell_type": "markdown",
   "id": "af92191f",
   "metadata": {},
   "source": [
    "Para listar enderecos, podemos listar todos ou listar por id do endereco."
   ]
  },
  {
   "cell_type": "markdown",
   "id": "3b4fa148",
   "metadata": {},
   "source": [
    "Listar todos:"
   ]
  },
  {
   "cell_type": "code",
   "execution_count": 5,
   "id": "028491c5",
   "metadata": {},
   "outputs": [
    {
     "name": "stdout",
     "output_type": "stream",
     "text": [
      "[{\"id\": 1, \"cep\": \"12345-678\", \"logradouro\": \"Rua das Flores\", \"bairro\": \"Centro\", \"uf\": \"SP\", \"cidade\": \"S\\u00e3o Paulo\"}, {\"id\": 5, \"cep\": \"01310-000\", \"logradouro\": \"Avenida Paulista\", \"bairro\": \"Bela Vista\", \"uf\": \"SP\", \"cidade\": \"S\\u00e3o Paulo\"}, {\"id\": 6, \"cep\": \"01310-000\", \"logradouro\": \"Avenida Paulista\", \"bairro\": \"Bela Vista\", \"uf\": \"SP\", \"cidade\": \"S\\u00e3o Paulo\"}, {\"id\": 7, \"cep\": \"25620-040\", \"logradouro\": \"Rua Dezesseis de Mar\\u00e7o\", \"bairro\": \"Centro\", \"uf\": \"RJ\", \"cidade\": \"Petr\\u00f3polis\"}, {\"id\": 8, \"cep\": \"25710-372\", \"logradouro\": \"Estrada Samambaia\", \"bairro\": \"Samambaia\", \"uf\": \"RJ\", \"cidade\": \"Petr\\u00f3polis\"}, {\"id\": 9, \"cep\": \"25645-010\", \"logradouro\": \"Rua Doutor Henrique Castrioto\", \"bairro\": \"Castelanea\", \"uf\": \"RJ\", \"cidade\": \"Petr\\u00f3polis\"}, {\"id\": 10, \"cep\": \"25640-322\", \"logradouro\": \"Rua Crist\\u00f3v\\u00e3o Colombo\", \"bairro\": \"Castelanea\", \"uf\": \"RJ\", \"cidade\": \"Petr\\u00f3polis\"}]\n",
      "\n"
     ]
    }
   ],
   "source": [
    "response = requests.get(\n",
    "    url = URL\n",
    ")\n",
    "\n",
    "\n",
    "print(response.text)"
   ]
  },
  {
   "cell_type": "markdown",
   "id": "7949e19e",
   "metadata": {},
   "source": [
    "Listar pelo id do endereco:"
   ]
  },
  {
   "cell_type": "code",
   "execution_count": 7,
   "id": "301fad96",
   "metadata": {},
   "outputs": [
    {
     "name": "stdout",
     "output_type": "stream",
     "text": [
      "{\"cep\": \"12345-678\", \"logradouro\": \"Rua das Flores\", \"bairro\": \"Centro\", \"uf\": \"SP\", \"cidade\": \"S\\u00e3o Paulo\"}\n",
      "\n"
     ]
    }
   ],
   "source": [
    "response = requests.get(\n",
    "    url = URL + \"/1\"\n",
    ")\n",
    "\n",
    "\n",
    "print(response.text)"
   ]
  },
  {
   "cell_type": "markdown",
   "id": "376c2a63",
   "metadata": {},
   "source": [
    "Para salvar um endereco no banco de dados, o endereco deve conter apenas o cep. \n",
    "O id do endereco é gerado automaticamente. E a ideia é que o numero e complemento do usuario seja salva na tabela usuario"
   ]
  },
  {
   "cell_type": "code",
   "execution_count": 8,
   "id": "b2810563",
   "metadata": {},
   "outputs": [
    {
     "name": "stdout",
     "output_type": "stream",
     "text": [
      "{\"id\": 10, \"msg\": \"Endereco criado com sucesso\"}\n",
      "\n"
     ]
    }
   ],
   "source": [
    "endereco = {\n",
    "    \"cep\": \"25640-322\"\n",
    "}\n",
    "\n",
    "response = requests.post(\n",
    "    url = URL,\n",
    "    json = endereco\n",
    ")\n",
    "\n",
    "print(response.text)"
   ]
  },
  {
   "cell_type": "markdown",
   "id": "8e02362c",
   "metadata": {},
   "source": [
    "Para atualizar um endereco, precisamos passar o id desse endereco na url e pronto, pode atualizar o campo cep."
   ]
  },
  {
   "cell_type": "code",
   "execution_count": 9,
   "id": "3af5ae75",
   "metadata": {},
   "outputs": [
    {
     "name": "stdout",
     "output_type": "stream",
     "text": [
      "{\"msg\": \"Endereco atualizado com sucesso\"}\n",
      "\n"
     ]
    }
   ],
   "source": [
    "update = {\n",
    "    \"cep\": \"25620040\"\n",
    "}\n",
    "\n",
    "response = requests.put(\n",
    "    url=URL + \"/10\",\n",
    "    json = update\n",
    ")\n",
    "\n",
    "print(response.text)"
   ]
  },
  {
   "cell_type": "markdown",
   "id": "4e7116e7",
   "metadata": {},
   "source": [
    "Para excluir basta passar o id do alimento na url, e estará feito. Caso não exista esse alimento, a api mostrará uma mensagem de erro."
   ]
  },
  {
   "cell_type": "code",
   "execution_count": 10,
   "id": "3d6843cc",
   "metadata": {},
   "outputs": [
    {
     "name": "stdout",
     "output_type": "stream",
     "text": [
      "{\"msg\": \"Endereco deletado com sucesso\"}\n",
      "\n"
     ]
    }
   ],
   "source": [
    "response = requests.delete(\n",
    "    url = URL + \"/10\"\n",
    ")\n",
    "\n",
    "print(response.text)"
   ]
  },
  {
   "cell_type": "code",
   "execution_count": 11,
   "id": "8fa83baa",
   "metadata": {},
   "outputs": [
    {
     "name": "stdout",
     "output_type": "stream",
     "text": [
      "{\"error\": \"Endere\\u00e7o n\\u00e3o encontrado.\"}\n",
      "\n"
     ]
    }
   ],
   "source": [
    "response = requests.delete(\n",
    "    url = URL + \"/10\"\n",
    ")\n",
    "\n",
    "print(response.text)"
   ]
  }
 ],
 "metadata": {
  "kernelspec": {
   "display_name": "venv",
   "language": "python",
   "name": "python3"
  },
  "language_info": {
   "codemirror_mode": {
    "name": "ipython",
    "version": 3
   },
   "file_extension": ".py",
   "mimetype": "text/x-python",
   "name": "python",
   "nbconvert_exporter": "python",
   "pygments_lexer": "ipython3",
   "version": "3.11.9"
  }
 },
 "nbformat": 4,
 "nbformat_minor": 5
}
